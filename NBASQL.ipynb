{
 "cells": [
  {
   "cell_type": "code",
   "execution_count": 1,
   "id": "73b148d9",
   "metadata": {},
   "outputs": [],
   "source": [
    "import requests\n",
    "import json\n",
    "import pandas as pd\n",
    "import sqlite3"
   ]
  },
  {
   "cell_type": "code",
   "execution_count": 2,
   "id": "7e6e7061",
   "metadata": {},
   "outputs": [
    {
     "name": "stdout",
     "output_type": "stream",
     "text": [
      "{'Playoffs', 'Regular+Season'}\n"
     ]
    }
   ],
   "source": [
    "year_list = []\n",
    "for i in range(1996, 2021):\n",
    "    year_list.append(str(i) + '-' + str(i+1)[-2:])\n",
    "    \n",
    "season_type_list = {'Regular+Season', 'Playoffs'}\n",
    "\n",
    "print(season_type_list)"
   ]
  },
  {
   "cell_type": "code",
   "execution_count": 3,
   "id": "e7918fac",
   "metadata": {},
   "outputs": [],
   "source": [
    "def createResponseObj(year, season_type):\n",
    "    player_info_url = 'https://stats.nba.com/stats/leaguedashplayerstats?College=&Conference=&Country=&DateFrom=&DateTo=&Division=&DraftPick=&DraftYear=&GameScope=&GameSegment=&Height=&LastNGames=0&LeagueID=00&Location=&MeasureType=Base&Month=0&OpponentTeamID=0&Outcome=&PORound=0&PaceAdjust=N&PerMode=PerGame&Period=0&PlayerExperience=&PlayerPosition=&PlusMinus=N&Rank=N&Season=' + year + '&SeasonSegment=&SeasonType=' + season_type + '&ShotClockRange=&StarterBench=&TeamID=0&TwoWay=0&VsConference=&VsDivision=&Weight='\n",
    "    headers  = {\n",
    "    'Connection': 'keep-alive',\n",
    "    'Accept': 'application/json, text/plain, */*',\n",
    "    'x-nba-stats-token': 'true',\n",
    "    'User-Agent': 'Mozilla/5.0 (Macintosh; Intel Mac OS X 10_14_6) AppleWebKit/537.36 (KHTML, like Gecko) Chrome/79.0.3945.130 Safari/537.36',\n",
    "    'x-nba-stats-origin': 'stats',\n",
    "    'Sec-Fetch-Site': 'same-origin',\n",
    "    'Sec-Fetch-Mode': 'cors',\n",
    "    'Referer': 'https://stats.nba.com/',\n",
    "    'Accept-Encoding': 'gzip, deflate, br',\n",
    "    'Accept-Language': 'en-US,en;q=0.9',\n",
    "    }\n",
    "    response = requests.get(url=player_info_url, headers=headers).json()\n",
    "    return response\n",
    "    \n",
    "def createDFFromResponse(response):\n",
    "    df = pd.json_normalize(response['resultSets'], record_path = 'rowSet') ##Grab the right selection from the json and puts it in rows\n",
    "    df.columns = pd.json_normalize(response['resultSets'], record_path = 'headers')[0].tolist() ##Takes header columns and adds it to the dataframe\n",
    "    return df\n",
    "\n",
    "def createTableFromDF(df, tableName, dbName):\n",
    "    connection = sqlite3.connect(dbName)\n",
    "    statement = \"drop table if exists \" + tableName\n",
    "    connection.execute(statement)\n",
    "    df.to_sql(tableName, con=connection)\n",
    "    connection.close()\n",
    "    \n",
    "def simplifySeasonTypeString(inputString):\n",
    "    if inputString == 'Regular+Season':\n",
    "        return 'regSeason'\n",
    "    if inputString == 'Playoffs':\n",
    "        return 'playoffs'\n",
    "    "
   ]
  },
  {
   "cell_type": "code",
   "execution_count": 4,
   "id": "d81db5ac",
   "metadata": {},
   "outputs": [],
   "source": [
    "for year in year_list:\n",
    "    for season_type in season_type_list:\n",
    "        response = createResponseObj(year, season_type)\n",
    "        df = createDFFromResponse(response)\n",
    "        \n",
    "        tableName = simplifySeasonTypeString(season_type) + year[:4] + '_' + year[-2:]\n",
    "        createTableFromDF(df, tableName, r'nba.db')"
   ]
  }
 ],
 "metadata": {
  "kernelspec": {
   "display_name": "Python 3",
   "language": "python",
   "name": "python3"
  },
  "language_info": {
   "codemirror_mode": {
    "name": "ipython",
    "version": 3
   },
   "file_extension": ".py",
   "mimetype": "text/x-python",
   "name": "python",
   "nbconvert_exporter": "python",
   "pygments_lexer": "ipython3",
   "version": "3.9.5"
  }
 },
 "nbformat": 4,
 "nbformat_minor": 5
}
